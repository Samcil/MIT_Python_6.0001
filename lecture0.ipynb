{
 "cells": [
  {
   "cell_type": "code",
   "execution_count": 2,
   "id": "56757372-e626-4c8a-91fc-a1105a1988e8",
   "metadata": {},
   "outputs": [],
   "source": [
    "pi = 3.14159\n",
    "radius = 2.2"
   ]
  },
  {
   "cell_type": "code",
   "execution_count": 3,
   "id": "0218d214-48f9-4100-8e69-d67b7160f8c0",
   "metadata": {},
   "outputs": [
    {
     "name": "stdout",
     "output_type": "stream",
     "text": [
      "15.205295600000001\n"
     ]
    }
   ],
   "source": [
    "# area of circle equation <- this is a comment\n",
    "area = pi*(radius**2)\n",
    "print(area)"
   ]
  },
  {
   "cell_type": "code",
   "execution_count": 4,
   "id": "1d9c96ae-86b0-4871-80b7-89f54cace080",
   "metadata": {},
   "outputs": [
    {
     "name": "stdout",
     "output_type": "stream",
     "text": [
      "15.205295600000001\n"
     ]
    }
   ],
   "source": [
    "# change values of radius <- another comment\n",
    "# use comments to help others understand what you are doing in code\n",
    "radius = radius + 1\n",
    "print(area)     # area doesn't change"
   ]
  },
  {
   "cell_type": "code",
   "execution_count": 5,
   "id": "983e3ae4-3c7a-42a4-9516-3f79521a05fe",
   "metadata": {},
   "outputs": [
    {
     "name": "stdout",
     "output_type": "stream",
     "text": [
      "32.169881600000004\n"
     ]
    }
   ],
   "source": [
    "area = pi*(radius**2)\n",
    "print(area)"
   ]
  },
  {
   "cell_type": "code",
   "execution_count": 6,
   "id": "51071545-7074-4e25-8a7e-1de9b995abb0",
   "metadata": {},
   "outputs": [],
   "source": [
    "#############################\n",
    "#### COMMENTING LINES #######\n",
    "#############################\n",
    "# to comment MANY lines at a time, highlight all of them then CTRL+1\n",
    "# do CTRL+1 again to uncomment them\n",
    "# try it on the next few lines below!"
   ]
  },
  {
   "cell_type": "code",
   "execution_count": null,
   "id": "b013bce9-30ea-4eea-a37f-031ad2cd9153",
   "metadata": {},
   "outputs": [],
   "source": [
    "#area = pi*(radius**2)\n",
    "#print(area)\n",
    "#radius = radius + 1\n",
    "#area = pi*(radius**2)\n",
    "#print(area)"
   ]
  },
  {
   "cell_type": "code",
   "execution_count": null,
   "id": "7b62f5ae-075b-49cd-91b9-2d5b071b9b78",
   "metadata": {},
   "outputs": [],
   "source": [
    "#############################\n",
    "#### AUTOCOMPLETE #######\n",
    "#############################\n",
    "# Spyder can autocomplete names for you\n",
    "# start typing a variable name defined in your program and hit tab \n",
    "# before you finish typing -- try it below"
   ]
  },
  {
   "cell_type": "code",
   "execution_count": null,
   "id": "9e24f9c3-52a6-464e-a9ee-4a1690a8c270",
   "metadata": {},
   "outputs": [],
   "source": [
    "# define a variable\n",
    "a_very_long_variable_name_dont_name_them_this_long_pls = 0"
   ]
  },
  {
   "cell_type": "code",
   "execution_count": null,
   "id": "8e7e2610-48a0-4c53-a055-070c9404e462",
   "metadata": {},
   "outputs": [],
   "source": [
    "# below, start typing a_ve then hit tab... cool, right!\n",
    "# use autocomplete to change the value of that variable to 1\n",
    "\n",
    "# use autocomplete to write a line that prints the value of that long variable\n",
    "# notice that Spyder also automatically adds the closed parentheses for you!"
   ]
  }
 ],
 "metadata": {
  "kernelspec": {
   "display_name": "Python 3 (ipykernel)",
   "language": "python",
   "name": "python3"
  },
  "language_info": {
   "codemirror_mode": {
    "name": "ipython",
    "version": 3
   },
   "file_extension": ".py",
   "mimetype": "text/x-python",
   "name": "python",
   "nbconvert_exporter": "python",
   "pygments_lexer": "ipython3",
   "version": "3.9.16"
  }
 },
 "nbformat": 4,
 "nbformat_minor": 5
}
